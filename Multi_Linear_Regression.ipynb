{
 "cells": [
  {
   "cell_type": "code",
   "execution_count": 34,
   "id": "934fe34d",
   "metadata": {},
   "outputs": [],
   "source": [
    "import numpy as np\n",
    "import matplotlib.pyplot as plt\n",
    "import pandas as pd"
   ]
  },
  {
   "cell_type": "code",
   "execution_count": 35,
   "id": "3a7a35b3",
   "metadata": {},
   "outputs": [],
   "source": [
    "df=pd.read_csv(\"50_Startups.csv\")"
   ]
  },
  {
   "cell_type": "code",
   "execution_count": 36,
   "id": "517d53c6",
   "metadata": {},
   "outputs": [],
   "source": [
    "\n",
    "X = df.iloc[:, :-1].values\n",
    "y = df.iloc[:, -1].values"
   ]
  },
  {
   "cell_type": "code",
   "execution_count": 37,
   "id": "755c8d50",
   "metadata": {},
   "outputs": [],
   "source": [
    "from sklearn.compose import ColumnTransformer\n",
    "from sklearn.preprocessing import OneHotEncoder"
   ]
  },
  {
   "cell_type": "code",
   "execution_count": 38,
   "id": "4f1c3759",
   "metadata": {},
   "outputs": [],
   "source": [
    "ct=ColumnTransformer(transformers=[('encoder',OneHotEncoder(),[3])],remainder='passthrough')\n",
    "X=np.array(ct.fit_transform(X))"
   ]
  },
  {
   "cell_type": "code",
   "execution_count": 39,
   "id": "fa9ce6b5",
   "metadata": {},
   "outputs": [],
   "source": [
    "from sklearn.model_selection import train_test_split\n",
    "X_train,X_test,Y_train,Y_test=train_test_split(X,y,test_size=0.2,random_state=1)"
   ]
  },
  {
   "cell_type": "code",
   "execution_count": 40,
   "id": "6234024c",
   "metadata": {},
   "outputs": [],
   "source": [
    "from sklearn.linear_model import LinearRegression"
   ]
  },
  {
   "cell_type": "code",
   "execution_count": 41,
   "id": "bebe8664",
   "metadata": {},
   "outputs": [],
   "source": [
    "lr=LinearRegression()"
   ]
  },
  {
   "cell_type": "code",
   "execution_count": 42,
   "id": "1fe792eb",
   "metadata": {},
   "outputs": [
    {
     "data": {
      "text/plain": [
       "LinearRegression()"
      ]
     },
     "execution_count": 42,
     "metadata": {},
     "output_type": "execute_result"
    }
   ],
   "source": [
    "lr.fit(X_train,Y_train)"
   ]
  },
  {
   "cell_type": "code",
   "execution_count": 43,
   "id": "1401c13b",
   "metadata": {},
   "outputs": [],
   "source": [
    "Y_train_pred=lr.predict(X_train)"
   ]
  },
  {
   "cell_type": "code",
   "execution_count": 44,
   "id": "3f63ae96",
   "metadata": {},
   "outputs": [
    {
     "name": "stdout",
     "output_type": "stream",
     "text": [
      "[[ 98762.25  97427.84]\n",
      " [ 83684.21  81005.76]\n",
      " [117738.47 111313.02]\n",
      " [ 76944.37  90708.19]\n",
      " [115291.17 122776.86]\n",
      " [ 71227.43  71498.49]\n",
      " [ 49751.28  14681.4 ]\n",
      " [110978.09 105733.54]\n",
      " [115041.51 110352.25]\n",
      " [126810.36 134307.35]\n",
      " [ 75687.34  77798.83]\n",
      " [129921.03 125370.37]\n",
      " [ 49479.62  64926.08]\n",
      " [112608.52 108552.04]\n",
      " [110240.44 108733.99]\n",
      " [169898.04 166187.94]\n",
      " [ 98337.38  96778.92]\n",
      " [148949.08 132602.65]\n",
      " [ 99680.66  99937.59]\n",
      " [134630.56 146121.95]\n",
      " [102970.71 103282.38]\n",
      " [ 66080.31  65200.33]\n",
      " [ 90106.07  96712.8 ]\n",
      " [128628.02 124266.9 ]\n",
      " [116157.82 118474.03]\n",
      " [102294.06 107404.34]\n",
      " [156091.38 156122.51]\n",
      " [159019.4  155752.6 ]\n",
      " [ 48270.78  42559.73]\n",
      " [186863.18 191792.06]\n",
      " [116454.65 126992.93]\n",
      " [190209.72 192261.83]\n",
      " [144915.12 129917.04]\n",
      " [161491.05 156991.12]\n",
      " [133859.59 144259.4 ]\n",
      " [152846.32 149759.96]\n",
      " [150770.52 152211.77]\n",
      " [128837.66 141585.52]\n",
      " [ 61653.87  69758.98]\n",
      " [ 88888.38  89949.14]]\n"
     ]
    }
   ],
   "source": [
    "print(np.concatenate((Y_train_pred.reshape(len(Y_train_pred),1), Y_train.reshape(len(Y_train),1)),1))"
   ]
  },
  {
   "cell_type": "code",
   "execution_count": 45,
   "id": "089ff089",
   "metadata": {},
   "outputs": [
    {
     "name": "stdout",
     "output_type": "stream",
     "text": [
      "[[114664.42 105008.31]\n",
      " [ 90593.16  96479.51]\n",
      " [ 75692.84  78239.91]\n",
      " [ 70221.89  81229.06]\n",
      " [179790.26 191050.39]\n",
      " [171576.92 182901.99]\n",
      " [ 49753.59  35673.41]\n",
      " [102276.66 101004.64]\n",
      " [ 58649.38  49490.75]\n",
      " [ 98272.03  97483.56]]\n"
     ]
    }
   ],
   "source": [
    "y_test_pred = lr.predict(X_test)\n",
    "np.set_printoptions(precision=2)\n",
    "print(np.concatenate((y_test_pred.reshape(len(y_test_pred),1), Y_test.reshape(len(Y_test),1)),1))"
   ]
  },
  {
   "cell_type": "code",
   "execution_count": null,
   "id": "3d4ca0e0",
   "metadata": {},
   "outputs": [],
   "source": []
  }
 ],
 "metadata": {
  "kernelspec": {
   "display_name": "Python 3 (ipykernel)",
   "language": "python",
   "name": "python3"
  },
  "language_info": {
   "codemirror_mode": {
    "name": "ipython",
    "version": 3
   },
   "file_extension": ".py",
   "mimetype": "text/x-python",
   "name": "python",
   "nbconvert_exporter": "python",
   "pygments_lexer": "ipython3",
   "version": "3.9.7"
  }
 },
 "nbformat": 4,
 "nbformat_minor": 5
}
